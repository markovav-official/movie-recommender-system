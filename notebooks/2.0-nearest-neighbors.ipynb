{
 "cells": [
  {
   "cell_type": "markdown",
   "metadata": {},
   "source": [
    "# Nearest Neighbors approach"
   ]
  },
  {
   "cell_type": "code",
   "execution_count": 1,
   "metadata": {},
   "outputs": [],
   "source": [
    "import numpy as np\n",
    "import pandas as pd\n",
    "from sklearn.compose import ColumnTransformer\n",
    "from sklearn.model_selection import train_test_split\n",
    "from sklearn.neighbors import NearestNeighbors\n",
    "from sklearn.preprocessing import OneHotEncoder, StandardScaler\n",
    "\n",
    "RANDOM_SEED = 42\n",
    "np.random.seed(RANDOM_SEED)"
   ]
  },
  {
   "cell_type": "code",
   "execution_count": 2,
   "metadata": {},
   "outputs": [],
   "source": [
    "users_path = '../data/raw/ml-100k/u.user'\n",
    "ratings_path = '../data/raw/ml-100k/u.data'\n",
    "movies_path = '../data/raw/ml-100k/u.item'\n",
    "\n",
    "# Load users data\n",
    "users_columns = ['user_id', 'age', 'gender', 'occupation', 'zip_code']\n",
    "users = pd.read_csv(users_path, sep='|', names=users_columns, encoding='latin-1')\n",
    "\n",
    "# Load ratings data\n",
    "ratings_columns = ['user_id', 'movie_id', 'rating', 'timestamp']\n",
    "ratings = pd.read_csv(ratings_path, sep='\\t', names=ratings_columns, encoding='latin-1')\n",
    "\n",
    "# Load movies data\n",
    "movies_columns = ['movie_id', 'title', 'release_date', 'video_release_date', 'IMDb_URL'] + ['genre_' + str(i) for i in range(19)]\n",
    "movies = pd.read_csv(movies_path, sep='|', names=movies_columns, encoding='latin-1', usecols=range(24))\n"
   ]
  },
  {
   "cell_type": "code",
   "execution_count": 4,
   "metadata": {},
   "outputs": [],
   "source": [
    "# Combine datasets\n",
    "data = pd.merge(pd.merge(ratings, users), movies)\n",
    "\n",
    "# Ensure that the features include 'user_id'\n",
    "features = data[['user_id', 'age', 'gender', 'occupation', 'zip_code', 'movie_id', 'rating']]\n",
    "labels = data[['user_id', 'movie_id', 'rating']]\n",
    "\n",
    "# Apply preprocessing to the appropriate columns (excluding 'user_id' and 'movie_id')\n",
    "preprocessor = ColumnTransformer(\n",
    "    transformers=[\n",
    "        ('num', StandardScaler(), ['age']),\n",
    "        ('cat', OneHotEncoder(handle_unknown='ignore'), ['gender', 'occupation', 'zip_code'])\n",
    "    ])\n",
    "\n",
    "# Split the dataset\n",
    "X = preprocessor.fit_transform(features.drop(columns=['user_id', 'movie_id', 'rating']))\n",
    "y = labels\n",
    "X_train, X_test, y_train, y_test = train_test_split(X, y, test_size=0.2, random_state=42)\n"
   ]
  },
  {
   "cell_type": "code",
   "execution_count": 5,
   "metadata": {},
   "outputs": [
    {
     "data": {
      "text/html": [
       "<style>#sk-container-id-1 {color: black;}#sk-container-id-1 pre{padding: 0;}#sk-container-id-1 div.sk-toggleable {background-color: white;}#sk-container-id-1 label.sk-toggleable__label {cursor: pointer;display: block;width: 100%;margin-bottom: 0;padding: 0.3em;box-sizing: border-box;text-align: center;}#sk-container-id-1 label.sk-toggleable__label-arrow:before {content: \"▸\";float: left;margin-right: 0.25em;color: #696969;}#sk-container-id-1 label.sk-toggleable__label-arrow:hover:before {color: black;}#sk-container-id-1 div.sk-estimator:hover label.sk-toggleable__label-arrow:before {color: black;}#sk-container-id-1 div.sk-toggleable__content {max-height: 0;max-width: 0;overflow: hidden;text-align: left;background-color: #f0f8ff;}#sk-container-id-1 div.sk-toggleable__content pre {margin: 0.2em;color: black;border-radius: 0.25em;background-color: #f0f8ff;}#sk-container-id-1 input.sk-toggleable__control:checked~div.sk-toggleable__content {max-height: 200px;max-width: 100%;overflow: auto;}#sk-container-id-1 input.sk-toggleable__control:checked~label.sk-toggleable__label-arrow:before {content: \"▾\";}#sk-container-id-1 div.sk-estimator input.sk-toggleable__control:checked~label.sk-toggleable__label {background-color: #d4ebff;}#sk-container-id-1 div.sk-label input.sk-toggleable__control:checked~label.sk-toggleable__label {background-color: #d4ebff;}#sk-container-id-1 input.sk-hidden--visually {border: 0;clip: rect(1px 1px 1px 1px);clip: rect(1px, 1px, 1px, 1px);height: 1px;margin: -1px;overflow: hidden;padding: 0;position: absolute;width: 1px;}#sk-container-id-1 div.sk-estimator {font-family: monospace;background-color: #f0f8ff;border: 1px dotted black;border-radius: 0.25em;box-sizing: border-box;margin-bottom: 0.5em;}#sk-container-id-1 div.sk-estimator:hover {background-color: #d4ebff;}#sk-container-id-1 div.sk-parallel-item::after {content: \"\";width: 100%;border-bottom: 1px solid gray;flex-grow: 1;}#sk-container-id-1 div.sk-label:hover label.sk-toggleable__label {background-color: #d4ebff;}#sk-container-id-1 div.sk-serial::before {content: \"\";position: absolute;border-left: 1px solid gray;box-sizing: border-box;top: 0;bottom: 0;left: 50%;z-index: 0;}#sk-container-id-1 div.sk-serial {display: flex;flex-direction: column;align-items: center;background-color: white;padding-right: 0.2em;padding-left: 0.2em;position: relative;}#sk-container-id-1 div.sk-item {position: relative;z-index: 1;}#sk-container-id-1 div.sk-parallel {display: flex;align-items: stretch;justify-content: center;background-color: white;position: relative;}#sk-container-id-1 div.sk-item::before, #sk-container-id-1 div.sk-parallel-item::before {content: \"\";position: absolute;border-left: 1px solid gray;box-sizing: border-box;top: 0;bottom: 0;left: 50%;z-index: -1;}#sk-container-id-1 div.sk-parallel-item {display: flex;flex-direction: column;z-index: 1;position: relative;background-color: white;}#sk-container-id-1 div.sk-parallel-item:first-child::after {align-self: flex-end;width: 50%;}#sk-container-id-1 div.sk-parallel-item:last-child::after {align-self: flex-start;width: 50%;}#sk-container-id-1 div.sk-parallel-item:only-child::after {width: 0;}#sk-container-id-1 div.sk-dashed-wrapped {border: 1px dashed gray;margin: 0 0.4em 0.5em 0.4em;box-sizing: border-box;padding-bottom: 0.4em;background-color: white;}#sk-container-id-1 div.sk-label label {font-family: monospace;font-weight: bold;display: inline-block;line-height: 1.2em;}#sk-container-id-1 div.sk-label-container {text-align: center;}#sk-container-id-1 div.sk-container {/* jupyter's `normalize.less` sets `[hidden] { display: none; }` but bootstrap.min.css set `[hidden] { display: none !important; }` so we also need the `!important` here to be able to override the default hidden behavior on the sphinx rendered scikit-learn.org. See: https://github.com/scikit-learn/scikit-learn/issues/21755 */display: inline-block !important;position: relative;}#sk-container-id-1 div.sk-text-repr-fallback {display: none;}</style><div id=\"sk-container-id-1\" class=\"sk-top-container\"><div class=\"sk-text-repr-fallback\"><pre>NearestNeighbors(algorithm=&#x27;brute&#x27;, n_neighbors=10)</pre><b>In a Jupyter environment, please rerun this cell to show the HTML representation or trust the notebook. <br />On GitHub, the HTML representation is unable to render, please try loading this page with nbviewer.org.</b></div><div class=\"sk-container\" hidden><div class=\"sk-item\"><div class=\"sk-estimator sk-toggleable\"><input class=\"sk-toggleable__control sk-hidden--visually\" id=\"sk-estimator-id-1\" type=\"checkbox\" checked><label for=\"sk-estimator-id-1\" class=\"sk-toggleable__label sk-toggleable__label-arrow\">NearestNeighbors</label><div class=\"sk-toggleable__content\"><pre>NearestNeighbors(algorithm=&#x27;brute&#x27;, n_neighbors=10)</pre></div></div></div></div></div>"
      ],
      "text/plain": [
       "NearestNeighbors(algorithm='brute', n_neighbors=10)"
      ]
     },
     "execution_count": 5,
     "metadata": {},
     "output_type": "execute_result"
    }
   ],
   "source": [
    "model = NearestNeighbors(n_neighbors=10, algorithm='brute')\n",
    "model.fit(X_train)\n"
   ]
  },
  {
   "cell_type": "code",
   "execution_count": 6,
   "metadata": {},
   "outputs": [
    {
     "name": "stdout",
     "output_type": "stream",
     "text": [
      "                                                      title\n",
      "movie_id                                                   \n",
      "306             Mrs. Brown (Her Majesty, Mrs. Brown) (1997)\n",
      "663                                      Being There (1979)\n",
      "580       Englishman Who Went Up a Hill, But Came Down a...\n",
      "1118                                     Up in Smoke (1978)\n",
      "411                             Nutty Professor, The (1996)\n",
      "845                               That Thing You Do! (1996)\n",
      "977                                  Substitute, The (1996)\n",
      "333                                        Game, The (1997)\n",
      "591                                      Primal Fear (1996)\n",
      "742                                           Ransom (1996)\n"
     ]
    }
   ],
   "source": [
    "def make_recommendation(user_id, n_recommendations=5):\n",
    "    # Ensure 'user_id' is included in the features DataFrame\n",
    "    user_data = data[data['user_id'] == user_id][['age', 'gender', 'occupation', 'zip_code', 'movie_id', 'rating']]\n",
    "\n",
    "    # Preprocess the user's data\n",
    "    user_data_processed = preprocessor.transform(user_data)\n",
    "\n",
    "    # Find similar users/items (using more neighbors for further exlude already seen movies)\n",
    "    distances, indices = model.kneighbors(user_data_processed, n_neighbors=n_recommendations * 3)\n",
    "    recommended_movies = set(y.iloc[indices.flatten()]['movie_id'])\n",
    "    \n",
    "    # Remove movies that the user has already seen and return the final recommendations\n",
    "    user_movies = set(data[data['user_id'] == user_id]['movie_id'])\n",
    "    recommended_movies = recommended_movies - user_movies\n",
    "\n",
    "    # Choose only the first 'n_recommendations' recommendations\n",
    "    recommended_movies = list(recommended_movies)[:n_recommendations]\n",
    "\n",
    "    # Return recommended movies\n",
    "    recommendations = data[data['movie_id'].isin(recommended_movies)][['movie_id', 'title']].drop_duplicates().set_index('movie_id')\n",
    "    \n",
    "    return recommendations\n",
    "\n",
    "# Make recommendations for a specific user\n",
    "user_id = 1\n",
    "print(make_recommendation(user_id, 10))\n"
   ]
  },
  {
   "cell_type": "code",
   "execution_count": 7,
   "metadata": {},
   "outputs": [],
   "source": [
    "def precision_recall_at_k(model, X, y, k=5, rating_threshold=4.0):\n",
    "    precisions = []\n",
    "    recalls = []\n",
    "\n",
    "    for user_id in np.unique(y['user_id']):\n",
    "        # Get the indices and ratings for the user\n",
    "        user_indices = np.where(y['user_id'].values == user_id)[0]\n",
    "        user_ratings = y.iloc[user_indices]\n",
    "\n",
    "        # Find movies rated above the threshold\n",
    "        relevant_movies = set(user_ratings[user_ratings['rating'] >= rating_threshold]['movie_id'])\n",
    "\n",
    "        # Skip users with fewer than k relevant movies\n",
    "        if len(relevant_movies) < k:\n",
    "            continue\n",
    "\n",
    "        # Get recommendations\n",
    "        user_data = X[user_indices, :]\n",
    "        distances, indices = model.kneighbors(user_data, n_neighbors=k)\n",
    "        recommended_movies = set(y.iloc[indices.flatten()]['movie_id'])\n",
    "\n",
    "        # Calculate precision and recall\n",
    "        n_relevant_and_recommended = len(relevant_movies.intersection(recommended_movies))\n",
    "        precision = n_relevant_and_recommended / k\n",
    "        recall = n_relevant_and_recommended / len(relevant_movies)\n",
    "\n",
    "        precisions.append(precision)\n",
    "        recalls.append(recall)\n",
    "\n",
    "    # Calculate average precision and recall across all users\n",
    "    avg_precision = np.mean(precisions) if precisions else 0\n",
    "    avg_recall = np.mean(recalls) if recalls else 0\n",
    "\n",
    "    return avg_precision, avg_recall\n"
   ]
  },
  {
   "cell_type": "code",
   "execution_count": 12,
   "metadata": {},
   "outputs": [
    {
     "name": "stdout",
     "output_type": "stream",
     "text": [
      "Precision@10: 0.8376609442060087\n",
      "Recall@10: 0.24107467352204673\n"
     ]
    }
   ],
   "source": [
    "# Evaluate the model using P@k and R@k with rating threshold 3\n",
    "precision, recall = precision_recall_at_k(model, X_train, y_train, k=10, rating_threshold=3.0)\n",
    "print(f\"Precision@10: {precision}\")\n",
    "print(f\"Recall@10: {recall}\")"
   ]
  },
  {
   "cell_type": "code",
   "execution_count": 9,
   "metadata": {},
   "outputs": [
    {
     "name": "stdout",
     "output_type": "stream",
     "text": [
      "Precision@10: 0.6051703877790834\n",
      "Recall@10: 0.21476492671392222\n"
     ]
    }
   ],
   "source": [
    "# Evaluate the model using P@k and R@k with rating threshold 4\n",
    "precision, recall = precision_recall_at_k(model, X_train, y_train, k=10, rating_threshold=4.0)\n",
    "print(f\"Precision@10: {precision}\")\n",
    "print(f\"Recall@10: {recall}\")"
   ]
  },
  {
   "cell_type": "code",
   "execution_count": 10,
   "metadata": {},
   "outputs": [],
   "source": [
    "# save model\n",
    "import pickle\n",
    "pickle.dump(model, open('../models/nearest_neighbors.pkl', 'wb'))\n",
    "pickle.dump(preprocessor, open('../models/nearest_neighbors_preprocessor.pkl', 'wb'))"
   ]
  }
 ],
 "metadata": {
  "kernelspec": {
   "display_name": ".venv",
   "language": "python",
   "name": "python3"
  },
  "language_info": {
   "codemirror_mode": {
    "name": "ipython",
    "version": 3
   },
   "file_extension": ".py",
   "mimetype": "text/x-python",
   "name": "python",
   "nbconvert_exporter": "python",
   "pygments_lexer": "ipython3",
   "version": "3.11.0"
  }
 },
 "nbformat": 4,
 "nbformat_minor": 2
}
